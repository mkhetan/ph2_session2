{
  "nbformat": 4,
  "nbformat_minor": 0,
  "metadata": {
    "colab": {
      "name": "EVA_P2S2_File_1_exp.ipynb",
      "provenance": [],
      "collapsed_sections": [],
      "include_colab_link": true
    },
    "kernelspec": {
      "name": "python3",
      "display_name": "Python 3"
    },
    "accelerator": "GPU"
  },
  "cells": [
    {
      "cell_type": "markdown",
      "metadata": {
        "id": "view-in-github",
        "colab_type": "text"
      },
      "source": [
        "<a href=\"https://colab.research.google.com/github/mkhetan/ph2_session2/blob/master/EVA_P2S2_File_1_exp.ipynb\" target=\"_parent\"><img src=\"https://colab.research.google.com/assets/colab-badge.svg\" alt=\"Open In Colab\"/></a>"
      ]
    },
    {
      "cell_type": "markdown",
      "metadata": {
        "id": "zEliQmgpY_o7",
        "colab_type": "text"
      },
      "source": [
        "This is a reproduction of the IRNN experiment with pixel-by-pixel sequential MNIST in \"A Simple Way to Initialize Recurrent Networks of Rectified Linear Units\" by Quoc V. Le, Navdeep Jaitly, Geoffrey E. Hinton\n",
        "\n",
        "arxiv:1504.00941v2 [cs.NE] 7 Apr 2015 http://arxiv.org/pdf/1504.00941v2.pdf\n",
        "\n",
        "Optimizer is replaced with RMSprop which yields more stable and steady improvement.\n",
        "\n",
        "Reaches 0.93 train/test accuracy after 900 epochs (which roughly corresponds to 1687500 steps in the original paper.)"
      ]
    },
    {
      "cell_type": "code",
      "metadata": {
        "id": "IJrKRupmDbat",
        "colab_type": "code",
        "outputId": "25b094c3-ffb6-40e3-d056-7d7fb140855a",
        "colab": {
          "base_uri": "https://localhost:8080/",
          "height": 35
        }
      },
      "source": [
        "%tensorflow_version 1.x\n",
        "from __future__ import print_function\n",
        "\n",
        "import keras\n",
        "from keras.datasets import mnist\n",
        "from keras.models import Sequential\n",
        "from keras.layers import Dense, Activation\n",
        "from keras.layers import SimpleRNN\n",
        "from keras import initializers\n",
        "from keras.optimizers import RMSprop"
      ],
      "execution_count": 0,
      "outputs": [
        {
          "output_type": "stream",
          "text": [
            "Using TensorFlow backend.\n"
          ],
          "name": "stderr"
        }
      ]
    },
    {
      "cell_type": "code",
      "metadata": {
        "id": "xcQsmxW3Df8_",
        "colab_type": "code",
        "colab": {}
      },
      "source": [
        "#batch_size = 1024\n",
        "# experimenting batch size of 784...\n",
        "batch_size = 100\n",
        "\n",
        "num_classes = 10\n",
        "epochs = 10\n",
        "hidden_units = 784\n",
        "\n",
        "learning_rate = 1e-6\n",
        "clip_norm = 1.0\n",
        "\n",
        "# the data, split between train and test sets\n",
        "(x_train, y_train), (x_test, y_test) = mnist.load_data()\n"
      ],
      "execution_count": 0,
      "outputs": []
    },
    {
      "cell_type": "markdown",
      "metadata": {
        "id": "ozNHoOeRggdR",
        "colab_type": "text"
      },
      "source": [
        "The original code was feeding the data 1 pixel at a time. Changed that too 1 digit ( (1,784) matrix at a time )\n",
        "Also - gave batch size 100 - so 100 digits will be fed in 1 shot"
      ]
    },
    {
      "cell_type": "code",
      "metadata": {
        "id": "tp58ZnL6Ez5R",
        "colab_type": "code",
        "outputId": "87f98d12-f8d8-469d-8eee-5c639879bc95",
        "colab": {
          "base_uri": "https://localhost:8080/",
          "height": 88
        }
      },
      "source": [
        "#x_train = x_train.reshape(x_train.shape[0], -1, 1)\n",
        "#x_test = x_test.reshape(x_test.shape[0], -1, 1)\n",
        "\n",
        "# instead of x_train being 60000,784,1 - we are making it 60000,1,784 so that we can feed 1 row (1 digit) in one shot\n",
        "x_train = x_train.reshape(x_train.shape[0], 1, -1)\n",
        "x_test = x_test.reshape(x_test.shape[0], 1, -1)\n",
        "\n",
        "x_train = x_train.astype('float32')\n",
        "x_test = x_test.astype('float32')\n",
        "x_train /= 255\n",
        "x_test /= 255\n",
        "print('x_train shape:', x_train.shape)\n",
        "print(x_train.shape[0], 'train samples')\n",
        "print(x_test.shape[0], 'test samples')\n",
        "\n",
        "# convert class vectors to binary class matrices\n",
        "y_train = keras.utils.to_categorical(y_train, num_classes)\n",
        "y_test = keras.utils.to_categorical(y_test, num_classes)\n",
        "\n",
        "print(x_train.shape[1:])"
      ],
      "execution_count": 0,
      "outputs": [
        {
          "output_type": "stream",
          "text": [
            "x_train shape: (60000, 1, 784)\n",
            "60000 train samples\n",
            "10000 test samples\n",
            "(1, 784)\n"
          ],
          "name": "stdout"
        }
      ]
    },
    {
      "cell_type": "markdown",
      "metadata": {
        "id": "hT6KZT2WJjDj",
        "colab_type": "text"
      },
      "source": [
        "THe input here is 1 pixel at a time!!! That's too much!\n"
      ]
    },
    {
      "cell_type": "code",
      "metadata": {
        "id": "6bYj5FyyE837",
        "colab_type": "code",
        "outputId": "35ae0fcb-3f7a-4f36-faca-a92da8f1c912",
        "colab": {
          "base_uri": "https://localhost:8080/",
          "height": 461
        }
      },
      "source": [
        "print('Evaluate IRNN...')\n",
        "model = Sequential()\n",
        "model.add(SimpleRNN(hidden_units, activation='relu', input_shape=x_train.shape[1:]))\n",
        "model.add(Dense(num_classes))\n",
        "model.add(Activation('softmax'))\n",
        "rmsprop = RMSprop(lr=learning_rate)\n",
        "model.compile(loss='categorical_crossentropy',\n",
        "              optimizer=rmsprop,\n",
        "              metrics=['accuracy'])\n",
        "model.summary()"
      ],
      "execution_count": 0,
      "outputs": [
        {
          "output_type": "stream",
          "text": [
            "Evaluate IRNN...\n",
            "WARNING:tensorflow:From /usr/local/lib/python3.6/dist-packages/keras/backend/tensorflow_backend.py:66: The name tf.get_default_graph is deprecated. Please use tf.compat.v1.get_default_graph instead.\n",
            "\n",
            "WARNING:tensorflow:From /usr/local/lib/python3.6/dist-packages/keras/backend/tensorflow_backend.py:541: The name tf.placeholder is deprecated. Please use tf.compat.v1.placeholder instead.\n",
            "\n",
            "WARNING:tensorflow:From /usr/local/lib/python3.6/dist-packages/keras/backend/tensorflow_backend.py:4432: The name tf.random_uniform is deprecated. Please use tf.random.uniform instead.\n",
            "\n",
            "WARNING:tensorflow:From /usr/local/lib/python3.6/dist-packages/keras/optimizers.py:793: The name tf.train.Optimizer is deprecated. Please use tf.compat.v1.train.Optimizer instead.\n",
            "\n",
            "WARNING:tensorflow:From /usr/local/lib/python3.6/dist-packages/keras/backend/tensorflow_backend.py:3576: The name tf.log is deprecated. Please use tf.math.log instead.\n",
            "\n",
            "Model: \"sequential_1\"\n",
            "_________________________________________________________________\n",
            "Layer (type)                 Output Shape              Param #   \n",
            "=================================================================\n",
            "simple_rnn_1 (SimpleRNN)     (None, 784)               1230096   \n",
            "_________________________________________________________________\n",
            "dense_1 (Dense)              (None, 10)                7850      \n",
            "_________________________________________________________________\n",
            "activation_1 (Activation)    (None, 10)                0         \n",
            "=================================================================\n",
            "Total params: 1,237,946\n",
            "Trainable params: 1,237,946\n",
            "Non-trainable params: 0\n",
            "_________________________________________________________________\n"
          ],
          "name": "stdout"
        }
      ]
    },
    {
      "cell_type": "markdown",
      "metadata": {
        "id": "NAfO1-j2Hduv",
        "colab_type": "text"
      },
      "source": [
        "This model is achieving the following:\n",
        "IRNN test score: 2.302489097213745\n",
        "IRNN test accuracy: 0.1201"
      ]
    },
    {
      "cell_type": "markdown",
      "metadata": {
        "id": "9og1xtyjHi2V",
        "colab_type": "text"
      },
      "source": [
        "28x28 image data is flattened into 784 x 1 - this is one row that is fed is input.\n",
        "But, there are only 100 units in the RNN... \n",
        "RNN output is 100 which gets added to input 784 - so input will be 884 - and only 100 units of RNN - could this be a problem?\n"
      ]
    },
    {
      "cell_type": "code",
      "metadata": {
        "id": "4_DJbE8-Wywp",
        "colab_type": "code",
        "outputId": "56ee209b-7d56-4eb7-997c-2d8d78cb3623",
        "colab": {
          "base_uri": "https://localhost:8080/",
          "height": 784
        }
      },
      "source": [
        "model.fit(x_train, y_train,\n",
        "          batch_size=batch_size,\n",
        "          epochs=epochs,\n",
        "          verbose=1,\n",
        "          validation_data=(x_test, y_test))\n",
        "\n",
        "scores = model.evaluate(x_test, y_test, verbose=0)\n",
        "print('IRNN test score:', scores[0])\n",
        "print('IRNN test accuracy:', scores[1])"
      ],
      "execution_count": 0,
      "outputs": [
        {
          "output_type": "stream",
          "text": [
            "WARNING:tensorflow:From /usr/local/lib/python3.6/dist-packages/tensorflow_core/python/ops/math_grad.py:1424: where (from tensorflow.python.ops.array_ops) is deprecated and will be removed in a future version.\n",
            "Instructions for updating:\n",
            "Use tf.where in 2.0, which has the same broadcast rule as np.where\n",
            "WARNING:tensorflow:From /usr/local/lib/python3.6/dist-packages/keras/backend/tensorflow_backend.py:1033: The name tf.assign_add is deprecated. Please use tf.compat.v1.assign_add instead.\n",
            "\n",
            "WARNING:tensorflow:From /usr/local/lib/python3.6/dist-packages/keras/backend/tensorflow_backend.py:1020: The name tf.assign is deprecated. Please use tf.compat.v1.assign instead.\n",
            "\n",
            "WARNING:tensorflow:From /usr/local/lib/python3.6/dist-packages/keras/backend/tensorflow_backend.py:3005: The name tf.Session is deprecated. Please use tf.compat.v1.Session instead.\n",
            "\n",
            "Train on 60000 samples, validate on 10000 samples\n",
            "Epoch 1/10\n",
            "WARNING:tensorflow:From /usr/local/lib/python3.6/dist-packages/keras/backend/tensorflow_backend.py:190: The name tf.get_default_session is deprecated. Please use tf.compat.v1.get_default_session instead.\n",
            "\n",
            "WARNING:tensorflow:From /usr/local/lib/python3.6/dist-packages/keras/backend/tensorflow_backend.py:197: The name tf.ConfigProto is deprecated. Please use tf.compat.v1.ConfigProto instead.\n",
            "\n",
            "WARNING:tensorflow:From /usr/local/lib/python3.6/dist-packages/keras/backend/tensorflow_backend.py:207: The name tf.global_variables is deprecated. Please use tf.compat.v1.global_variables instead.\n",
            "\n",
            "WARNING:tensorflow:From /usr/local/lib/python3.6/dist-packages/keras/backend/tensorflow_backend.py:216: The name tf.is_variable_initialized is deprecated. Please use tf.compat.v1.is_variable_initialized instead.\n",
            "\n",
            "WARNING:tensorflow:From /usr/local/lib/python3.6/dist-packages/keras/backend/tensorflow_backend.py:223: The name tf.variables_initializer is deprecated. Please use tf.compat.v1.variables_initializer instead.\n",
            "\n",
            "60000/60000 [==============================] - 4s 73us/step - loss: 2.2761 - acc: 0.1205 - val_loss: 2.1799 - val_acc: 0.1862\n",
            "Epoch 2/10\n",
            "60000/60000 [==============================] - 3s 51us/step - loss: 2.0986 - acc: 0.3056 - val_loss: 2.0093 - val_acc: 0.4381\n",
            "Epoch 3/10\n",
            "60000/60000 [==============================] - 3s 50us/step - loss: 1.9392 - acc: 0.5174 - val_loss: 1.8537 - val_acc: 0.6098\n",
            "Epoch 4/10\n",
            "60000/60000 [==============================] - 3s 51us/step - loss: 1.7928 - acc: 0.6373 - val_loss: 1.7103 - val_acc: 0.6935\n",
            "Epoch 5/10\n",
            "60000/60000 [==============================] - 3s 52us/step - loss: 1.6573 - acc: 0.7035 - val_loss: 1.5774 - val_acc: 0.7417\n",
            "Epoch 6/10\n",
            "60000/60000 [==============================] - 3s 50us/step - loss: 1.5323 - acc: 0.7430 - val_loss: 1.4553 - val_acc: 0.7721\n",
            "Epoch 7/10\n",
            "60000/60000 [==============================] - 3s 51us/step - loss: 1.4173 - acc: 0.7684 - val_loss: 1.3431 - val_acc: 0.7903\n",
            "Epoch 8/10\n",
            "60000/60000 [==============================] - 3s 52us/step - loss: 1.3119 - acc: 0.7869 - val_loss: 1.2407 - val_acc: 0.8065\n",
            "Epoch 9/10\n",
            "60000/60000 [==============================] - 3s 51us/step - loss: 1.2161 - acc: 0.8005 - val_loss: 1.1486 - val_acc: 0.8189\n",
            "Epoch 10/10\n",
            "60000/60000 [==============================] - 3s 50us/step - loss: 1.1301 - acc: 0.8107 - val_loss: 1.0662 - val_acc: 0.8300\n",
            "IRNN test score: 1.0661823406219482\n",
            "IRNN test accuracy: 0.83\n"
          ],
          "name": "stdout"
        }
      ]
    }
  ]
}