{
  "nbformat": 4,
  "nbformat_minor": 0,
  "metadata": {
    "colab": {
      "name": "EVA_P2S2_File_2.ipynb",
      "provenance": [],
      "collapsed_sections": [],
      "include_colab_link": true
    },
    "kernelspec": {
      "name": "python3",
      "display_name": "Python 3"
    }
  },
  "cells": [
    {
      "cell_type": "markdown",
      "metadata": {
        "id": "view-in-github",
        "colab_type": "text"
      },
      "source": [
        "<a href=\"https://colab.research.google.com/github/mkhetan/ph2_session2/blob/master/EVA_P2S2_File_2.ipynb\" target=\"_parent\"><img src=\"https://colab.research.google.com/assets/colab-badge.svg\" alt=\"Open In Colab\"/></a>"
      ]
    },
    {
      "cell_type": "code",
      "metadata": {
        "id": "UJKcKjnWecLZ",
        "colab_type": "code",
        "outputId": "30408bb2-ac4d-4469-b25a-0c148d4a660f",
        "colab": {
          "base_uri": "https://localhost:8080/",
          "height": 100
        }
      },
      "source": [
        "from keras.layers import SimpleRNN\n",
        "\n",
        "\n",
        "from keras.models import Sequential\n",
        "from keras.layers import Embedding, SimpleRNN\n",
        "\n",
        "from keras.datasets import imdb\n",
        "from keras.preprocessing import sequence\n",
        "# 10000 uniqe words\n",
        "max_features = 10000\n",
        "\n",
        "# One entry - max 500 words\n",
        "maxlen = 500\n",
        "\n",
        "# 32 reviews in one go\n",
        "#batch_size = 32\n",
        "print('Loading data...')"
      ],
      "execution_count": 0,
      "outputs": [
        {
          "output_type": "stream",
          "text": [
            "Using TensorFlow backend.\n"
          ],
          "name": "stderr"
        },
        {
          "output_type": "display_data",
          "data": {
            "text/html": [
              "<p style=\"color: red;\">\n",
              "The default version of TensorFlow in Colab will soon switch to TensorFlow 2.x.<br>\n",
              "We recommend you <a href=\"https://www.tensorflow.org/guide/migrate\" target=\"_blank\">upgrade</a> now \n",
              "or ensure your notebook will continue to use TensorFlow 1.x via the <code>%tensorflow_version 1.x</code> magic:\n",
              "<a href=\"https://colab.research.google.com/notebooks/tensorflow_version.ipynb\" target=\"_blank\">more info</a>.</p>\n"
            ],
            "text/plain": [
              "<IPython.core.display.HTML object>"
            ]
          },
          "metadata": {
            "tags": []
          }
        },
        {
          "output_type": "stream",
          "text": [
            "Loading data...\n"
          ],
          "name": "stdout"
        }
      ]
    },
    {
      "cell_type": "code",
      "metadata": {
        "id": "AGrQV123eeQr",
        "colab_type": "code",
        "outputId": "0843e421-ef7c-4013-b33b-1c14b5634eee",
        "colab": {
          "base_uri": "https://localhost:8080/",
          "height": 52
        }
      },
      "source": [
        "(input_train, y_train), (input_test, y_test) = imdb.load_data(num_words=max_features)"
      ],
      "execution_count": 0,
      "outputs": [
        {
          "output_type": "stream",
          "text": [
            "Downloading data from https://s3.amazonaws.com/text-datasets/imdb.npz\n",
            "17465344/17464789 [==============================] - 0s 0us/step\n"
          ],
          "name": "stdout"
        }
      ]
    },
    {
      "cell_type": "code",
      "metadata": {
        "id": "Q6muyFfRegiP",
        "colab_type": "code",
        "outputId": "5bbd57a2-9374-4317-a288-b7548d7a4316",
        "colab": {
          "base_uri": "https://localhost:8080/",
          "height": 70
        }
      },
      "source": [
        "print(len(input_train), 'train sequences')\n",
        "print(len(input_test), 'test sequences')\n",
        "print('Pad sequences (samples x time)')"
      ],
      "execution_count": 0,
      "outputs": [
        {
          "output_type": "stream",
          "text": [
            "25000 train sequences\n",
            "25000 test sequences\n",
            "Pad sequences (samples x time)\n"
          ],
          "name": "stdout"
        }
      ]
    },
    {
      "cell_type": "markdown",
      "metadata": {
        "id": "aYjaAvWVikWo",
        "colab_type": "text"
      },
      "source": [
        "All entries are now made fixed length 500 words... 25000 such entries in both train and test dataset"
      ]
    },
    {
      "cell_type": "code",
      "metadata": {
        "id": "WJycVWRXegpF",
        "colab_type": "code",
        "outputId": "43f342c4-1303-4584-9942-490a0f7ef81b",
        "colab": {
          "base_uri": "https://localhost:8080/",
          "height": 35
        }
      },
      "source": [
        "input_train = sequence.pad_sequences(input_train, maxlen=maxlen)\n",
        "input_test = sequence.pad_sequences(input_test, maxlen=maxlen)\n",
        "print('input_train shape:', input_train.shape)"
      ],
      "execution_count": 0,
      "outputs": [
        {
          "output_type": "stream",
          "text": [
            "input_train shape: (25000, 500)\n"
          ],
          "name": "stdout"
        }
      ]
    },
    {
      "cell_type": "code",
      "metadata": {
        "id": "W-_e5FzpeiFI",
        "colab_type": "code",
        "outputId": "60c7a56f-f968-4c90-efea-548d93ff235c",
        "colab": {
          "base_uri": "https://localhost:8080/",
          "height": 568
        }
      },
      "source": [
        "from keras.layers import Dense, BatchNormalization, Dropout, Activation\n",
        "\n",
        "model = Sequential()\n",
        "\n",
        "# Embedding with max words 10000 and 32 dimentionality\n",
        "# no input length???\n",
        "model.add(Embedding(max_features, 32))\n",
        "\n",
        "# RNN cell has 32 units ...\n",
        "# Embedding layer is throwing out an output of length 32 that is being fed to this RNN\n",
        "model.add(SimpleRNN(32, return_sequences=True))\n",
        "model.add(SimpleRNN(64))\n",
        "\n",
        "#model.add(BatchNormalization())\n",
        "\n",
        "#this activation improves the val accuracy to 85% :-)\n",
        "model.add(Activation('relu'))\n",
        "#model.add(Dropout(0.25))\n",
        "\n",
        "# Fully connected layer - deciding what is the sentiment of the input sentence / review (positive or negative)\n",
        "model.add(Dense(1, activation='sigmoid'))\n",
        "\n",
        "model.compile(optimizer='rmsprop', loss='binary_crossentropy', metrics=['acc'])\n",
        "\n",
        "# Try adam - did not make much difference\n",
        "#model.compile(optimizer='adam', loss='binary_crossentropy', metrics=['acc'])\n",
        "\n",
        "model.summary()"
      ],
      "execution_count": 0,
      "outputs": [
        {
          "output_type": "stream",
          "text": [
            "WARNING:tensorflow:From /usr/local/lib/python3.6/dist-packages/keras/backend/tensorflow_backend.py:66: The name tf.get_default_graph is deprecated. Please use tf.compat.v1.get_default_graph instead.\n",
            "\n",
            "WARNING:tensorflow:From /usr/local/lib/python3.6/dist-packages/keras/backend/tensorflow_backend.py:541: The name tf.placeholder is deprecated. Please use tf.compat.v1.placeholder instead.\n",
            "\n",
            "WARNING:tensorflow:From /usr/local/lib/python3.6/dist-packages/keras/backend/tensorflow_backend.py:4432: The name tf.random_uniform is deprecated. Please use tf.random.uniform instead.\n",
            "\n",
            "WARNING:tensorflow:From /usr/local/lib/python3.6/dist-packages/keras/optimizers.py:793: The name tf.train.Optimizer is deprecated. Please use tf.compat.v1.train.Optimizer instead.\n",
            "\n",
            "WARNING:tensorflow:From /usr/local/lib/python3.6/dist-packages/keras/backend/tensorflow_backend.py:3657: The name tf.log is deprecated. Please use tf.math.log instead.\n",
            "\n",
            "WARNING:tensorflow:From /usr/local/lib/python3.6/dist-packages/tensorflow_core/python/ops/nn_impl.py:183: where (from tensorflow.python.ops.array_ops) is deprecated and will be removed in a future version.\n",
            "Instructions for updating:\n",
            "Use tf.where in 2.0, which has the same broadcast rule as np.where\n",
            "Model: \"sequential_1\"\n",
            "_________________________________________________________________\n",
            "Layer (type)                 Output Shape              Param #   \n",
            "=================================================================\n",
            "embedding_1 (Embedding)      (None, None, 32)          320000    \n",
            "_________________________________________________________________\n",
            "simple_rnn_1 (SimpleRNN)     (None, None, 32)          2080      \n",
            "_________________________________________________________________\n",
            "simple_rnn_2 (SimpleRNN)     (None, 64)                6208      \n",
            "_________________________________________________________________\n",
            "activation_1 (Activation)    (None, 64)                0         \n",
            "_________________________________________________________________\n",
            "dense_1 (Dense)              (None, 1)                 65        \n",
            "=================================================================\n",
            "Total params: 328,353\n",
            "Trainable params: 328,353\n",
            "Non-trainable params: 0\n",
            "_________________________________________________________________\n"
          ],
          "name": "stdout"
        }
      ]
    },
    {
      "cell_type": "markdown",
      "metadata": {
        "id": "eoUGEukKqBq1",
        "colab_type": "text"
      },
      "source": [
        "Gives a good test accuracy and decent validation accuracy\n",
        "\n",
        "loss: 0.0307 - acc: 0.9904 - val_loss: 0.6185 - val_acc: 0.8200\n"
      ]
    },
    {
      "cell_type": "code",
      "metadata": {
        "id": "H1dqn-pKkhmI",
        "colab_type": "code",
        "outputId": "8ec765aa-49ed-4971-ef3f-e80668aac1d0",
        "colab": {
          "base_uri": "https://localhost:8080/",
          "height": 390
        }
      },
      "source": [
        "# Batch size is 128 - means - 128 reviews in one shot....\n",
        "history = model.fit(input_train, y_train,\n",
        "                    epochs=10,\n",
        "                    batch_size=128,\n",
        "                    validation_split=0.2)\n",
        "# reducing batch size to 32 reduced the val accuracy\n",
        "# increasing to 256 also gave worse results... \n",
        "# 64 was not much different...\n",
        "#history = model.fit(input_train, y_train,\n",
        "#                    epochs=10,\n",
        "#                    batch_size=32,\n",
        "#                    validation_split=0.2)\n"
      ],
      "execution_count": 0,
      "outputs": [
        {
          "output_type": "stream",
          "text": [
            "Train on 20000 samples, validate on 5000 samples\n",
            "Epoch 1/10\n",
            "20000/20000 [==============================] - 21s 1ms/step - loss: 0.6697 - acc: 0.5806 - val_loss: 0.5672 - val_acc: 0.7372\n",
            "Epoch 2/10\n",
            "20000/20000 [==============================] - 20s 981us/step - loss: 0.4556 - acc: 0.8090 - val_loss: 0.3931 - val_acc: 0.8400\n",
            "Epoch 3/10\n",
            "20000/20000 [==============================] - 20s 990us/step - loss: 0.3311 - acc: 0.8693 - val_loss: 0.3807 - val_acc: 0.8324\n",
            "Epoch 4/10\n",
            "20000/20000 [==============================] - 20s 982us/step - loss: 0.2710 - acc: 0.8962 - val_loss: 0.3457 - val_acc: 0.8594\n",
            "Epoch 5/10\n",
            "20000/20000 [==============================] - 20s 984us/step - loss: 0.2353 - acc: 0.9108 - val_loss: 0.3710 - val_acc: 0.8392\n",
            "Epoch 6/10\n",
            "20000/20000 [==============================] - 20s 986us/step - loss: 0.1953 - acc: 0.9304 - val_loss: 0.4489 - val_acc: 0.7914\n",
            "Epoch 7/10\n",
            "20000/20000 [==============================] - 20s 990us/step - loss: 0.1654 - acc: 0.9412 - val_loss: 0.3712 - val_acc: 0.8594\n",
            "Epoch 8/10\n",
            "20000/20000 [==============================] - 20s 977us/step - loss: 0.1294 - acc: 0.9566 - val_loss: 0.4979 - val_acc: 0.8106\n",
            "Epoch 9/10\n",
            "20000/20000 [==============================] - 20s 989us/step - loss: 0.1051 - acc: 0.9634 - val_loss: 0.4374 - val_acc: 0.8642\n",
            "Epoch 10/10\n",
            "20000/20000 [==============================] - 20s 984us/step - loss: 0.0765 - acc: 0.9757 - val_loss: 0.4419 - val_acc: 0.8544\n"
          ],
          "name": "stdout"
        }
      ]
    },
    {
      "cell_type": "code",
      "metadata": {
        "id": "vsGK_JY-ejXv",
        "colab_type": "code",
        "outputId": "0cc07cf3-4559-4d05-e615-76354c360770",
        "colab": {
          "base_uri": "https://localhost:8080/",
          "height": 545
        }
      },
      "source": [
        "%matplotlib inline\n",
        "\n",
        "import matplotlib.pyplot as plt\n",
        "acc = history.history['acc']\n",
        "val_acc = history.history['val_acc']\n",
        "loss = history.history['loss']\n",
        "val_loss = history.history['val_loss']\n",
        "epochs = range(1, len(acc) + 1)\n",
        "plt.plot(epochs, acc, 'bo', label='Training ACC')\n",
        "plt.plot(epochs, val_acc, 'b', label='Validation ACC')\n",
        "plt.title('Training and Validation Accuracy')\n",
        "plt.legend()\n",
        "plt.figure()\n",
        "plt.plot(epochs, loss, 'bo', label='Training Loss')\n",
        "plt.plot(epochs, val_loss, 'b', label='Validation Loss')\n",
        "plt.title('Training and Validation Loss')\n",
        "plt.legend()\n",
        "plt.show()"
      ],
      "execution_count": 0,
      "outputs": [
        {
          "output_type": "display_data",
          "data": {
            "image/png": "[encoded data removed]",
            "text/plain": [
              "<Figure size 432x288 with 1 Axes>"
            ]
          },
          "metadata": {
            "tags": []
          }
        },
        {
          "output_type": "display_data",
          "data": {
            "image/png": "[encoded data removed]",
            "text/plain": [
              "<Figure size 432x288 with 1 Axes>"
            ]
          },
          "metadata": {
            "tags": []
          }
        }
      ]
    },
    {
      "cell_type": "code",
      "metadata": {
        "id": "Xdi5DZf8elBw",
        "colab_type": "code",
        "colab": {}
      },
      "source": [
        ""
      ],
      "execution_count": 0,
      "outputs": []
    }
  ]
}